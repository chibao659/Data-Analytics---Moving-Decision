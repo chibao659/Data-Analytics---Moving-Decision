{
 "cells": [
  {
   "cell_type": "code",
   "execution_count": 1,
   "metadata": {},
   "outputs": [],
   "source": [
    "import pymprog as pm"
   ]
  },
  {
   "cell_type": "code",
   "execution_count": 13,
   "metadata": {},
   "outputs": [
    {
     "name": "stdout",
     "output_type": "stream",
     "text": [
      "\n",
      "Max utility value: 121757.41666666666\n",
      "\n",
      "98007: 0.0\n",
      "\n",
      "30076: 0.0\n",
      "\n",
      "30071: 0.0\n",
      "\n",
      "30338: 1.0\n",
      "\n",
      "30097: 0.0\n",
      "\n",
      "30093: 0.0\n"
     ]
    },
    {
     "data": {
      "text/plain": [
       "model('Moving Utility') is not the default model."
      ]
     },
     "execution_count": 13,
     "metadata": {},
     "output_type": "execute_result"
    }
   ],
   "source": [
    "pm.begin('Moving Utility')\n",
    "x0,x1,x2,x3,x4,x5 = pm.var('x0,x1,x2,x3,x4,x5',kind = bool) #the 6 zip codes\n",
    "pm.maximize(x0*(140000-(140000/(2*40*52))*(2*5*52*5/60)+140000/3*0.0840\n",
    "               +14197*3-1000*(2*19.4+31.1)-0) + #zip 98007\n",
    "            x1*(145000-(145000/(2*40*52))*(2*5*52*15/60)+145000/3*0.0404\n",
    "               +10734*3-1000*(2*28+35.5)-8000) + #zip 30076\n",
    "            x2*(145000-(145000/(2*40*52))*(2*5*52*26/60)+145000/3*0.0689\n",
    "               +9550*3-1000*(2*43.2+52.8)-8000) + #zip 30071\n",
    "            x3*(145000-(145000/(2*40*52))*(2*5*52*15/60)+145000/3*0.008\n",
    "               +10734*3-1000*(2*12.6+18.1)-8000) + #zip 30097\n",
    "            x4*(145000-(145000/(2*40*52))*(2*5*52*20/60)+145000/3*0.0087\n",
    "               +9451*3-1000*(2*18.2+31.6)-8000) + #zip 30338\n",
    "            x5*(145000-(145000/(2*40*52))*(2*5*52*31/60)+145000/3*0.0846\n",
    "               +9550*3-1000*(2*56.8+66.9)-8000), 'Utility') #zip 30093\n",
    "x0+x1+x2+x3+x4+x5==1\n",
    "pm.solve()\n",
    "print('\\nMax utility value:',pm.vobj())\n",
    "print('\\n98007:', x0.primal)\n",
    "print('\\n30076:', x1.primal)\n",
    "print('\\n30071:', x2.primal)\n",
    "print('\\n30338:', x3.primal)\n",
    "print('\\n30097:', x4.primal)\n",
    "print('\\n30093:', x5.primal)\n",
    "\n",
    "pm.end()"
   ]
  }
 ],
 "metadata": {
  "kernelspec": {
   "display_name": "Python 3",
   "language": "python",
   "name": "python3"
  },
  "language_info": {
   "codemirror_mode": {
    "name": "ipython",
    "version": 3
   },
   "file_extension": ".py",
   "mimetype": "text/x-python",
   "name": "python",
   "nbconvert_exporter": "python",
   "pygments_lexer": "ipython3",
   "version": "3.8.3"
  }
 },
 "nbformat": 4,
 "nbformat_minor": 4
}
